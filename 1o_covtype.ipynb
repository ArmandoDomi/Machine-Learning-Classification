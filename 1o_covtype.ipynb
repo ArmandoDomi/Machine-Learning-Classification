{
  "nbformat": 4,
  "nbformat_minor": 0,
  "metadata": {
    "colab": {
      "name": "1o_covtype.ipynb",
      "provenance": [],
      "collapsed_sections": []
    },
    "kernelspec": {
      "name": "python3",
      "display_name": "Python 3"
    }
  },
  "cells": [
    {
      "cell_type": "code",
      "metadata": {
        "id": "iwjT_dVxL1aL",
        "colab_type": "code",
        "outputId": "8165838d-021f-4843-9fd3-dc7e753affb4",
        "colab": {
          "base_uri": "https://localhost:8080/",
          "height": 136
        }
      },
      "source": [
        "import numpy as np\n",
        "import sklearn as sk\n",
        "from sklearn import discriminant_analysis as da\n",
        "from sklearn import linear_model as lm\n",
        "from sklearn import utils\n",
        "import matplotlib.pyplot as plt\n",
        "import pandas as pd\n",
        "\n",
        "#for google colab\n",
        "\n",
        "from google.colab import drive\n",
        "drive.mount('/content/drive')\n",
        "\n",
        "data=pd.read_csv(\"/content/drive/My Drive/google_colab/set lab1/covtype.data\",delimiter=',',header=None).values;\n",
        "#print the first 10 rows of the dataset\n",
        "#The shape of the variable data is (581012,55) \n",
        "'''\n",
        "print(data.shape)\n",
        "print(data[0:10,:])\n",
        "'''\n",
        "\n",
        "\n",
        "# let's separate the data from the targets. \n",
        "X=data[:,:53]\n",
        "y=data[:,54]\n",
        "\n",
        "#we will take the first 15120 rows for training\n",
        "train_id=15120\n",
        "X_train = X[0:train_id, :]\n",
        "X_test = X[train_id:, :]\n",
        "y_train = y[0:train_id]\n",
        "y_test = y[train_id:]\n",
        "\n",
        "print(y_train)\n",
        "\n",
        "\n",
        "#Logistic Regression\n",
        "print(\"Logistic Regression\")\n",
        "\n",
        "'''\n",
        "The results for a diferent solver:\n",
        "\n",
        "For parameter: lbfgs\n",
        "Accuracy: 0.547746\n",
        "\n",
        "For parameter: liblinear\n",
        "Accuracy: 0.425099\n",
        "\n",
        "For parameter: saga\n",
        "Accuracy: 0.397069\n",
        "\n",
        "For parameter: sag\n",
        "Accuracy: 0.402229\n",
        "\n",
        "For parameter: newton-cg\n",
        "Accuracy: 0.558177\n",
        "----------------------------------\n",
        "Using the solver newton-cg\n",
        "For parameter C:  0.5\n",
        "Accuracy: 0.556719\n",
        "\n",
        "For parameter C:  0.6\n",
        "Accuracy: 0.557046\n",
        "\n",
        "For parameter C:  0.7\n",
        "Accuracy: 0.557474\n",
        "\n",
        "For parameter C:  0.8\n",
        "Accuracy: 0.557732\n",
        "\n",
        "For parameter C:  0.9\n",
        "Accuracy: 0.558025\n",
        "\n",
        "For parameter C:  1\n",
        "Accuracy: 0.558177\n",
        "\n",
        "'''\n",
        "'''\n",
        "lr=lm.LogisticRegression(solver='newton-cg',C=1,penalty='l2',max_iter=10000,tol=1e-3,verbose=1)\n",
        "lr.fit(X_train,y_train)\n",
        "\n",
        "ypred=lr.predict(X_test)\n",
        "acc_lr = np.mean(y_test == ypred)\n",
        "print(\"For parameter C: \",C)\n",
        "print(\"Accuracy: %f\" % (acc_lr))\n",
        "'''\n",
        "\n",
        "#Linear Discriminant Analysis \n",
        "print(\"Linear discriminant analysis\")\n",
        "solver_lda=['svd','lsqr']\n",
        "\n",
        "lda = da.LinearDiscriminantAnalysis(solver='svd',tol=1.0e-3)\n",
        "lda.fit(X_train, y_train)\n",
        "ypred = lda.predict(X_test)\n",
        "acc_lda = np.mean(y_test == ypred)\n",
        "print(\"Accuracy: %f\" % (acc_lda))\n"
      ],
      "execution_count": 0,
      "outputs": [
        {
          "output_type": "stream",
          "text": [
            "Drive already mounted at /content/drive; to attempt to forcibly remount, call drive.mount(\"/content/drive\", force_remount=True).\n",
            "[5 5 2 ... 3 3 3]\n",
            "Logistic Regression\n",
            "Linear discriminant analysis\n"
          ],
          "name": "stdout"
        },
        {
          "output_type": "stream",
          "text": [
            "/usr/local/lib/python3.6/dist-packages/sklearn/discriminant_analysis.py:388: UserWarning: Variables are collinear.\n",
            "  warnings.warn(\"Variables are collinear.\")\n"
          ],
          "name": "stderr"
        },
        {
          "output_type": "stream",
          "text": [
            "Accuracy: 0.581067\n"
          ],
          "name": "stdout"
        }
      ]
    }
  ]
}